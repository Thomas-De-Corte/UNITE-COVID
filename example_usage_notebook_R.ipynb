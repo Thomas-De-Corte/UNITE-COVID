{
 "cells": [
  {
   "cell_type": "markdown",
   "metadata": {
    "id": "kA3mx_tPdJ0y"
   },
   "source": [
    "# UNITE-COVID data curation notebook (R-Kernel)\n",
    "\n",
    "## Version 2.x\n",
    "\n",
    "This describes the curation process. We use the finalised dataset \"UNITE_COVID_19_global_export-1Dec2020 CSV.csv\" \n",
    "as the source data / master dataframe. The working dataframe is 'working.df' and is updated by the curation script.\n",
    "\n",
    "\"UNITE_curation_dictionary.xlsx\" contains curation/explanatory notes.\n",
    "\n",
    "ESICM UNITE-COVID curation team\n",
    "- Ari Ercole (University of Cambridge: Cambridge, GB) ORCID: 0000-0001-8350-8093\n",
    "- Paul W Elbers (Amsterdam UMC: Amsterdam, NL) ORCID: 0000-0003-0447-6893\n",
    "- Harm-Jan de Grooth (VU University Medical Center: Amsterdam, NL) ORCID: 0000-0002-7499-076X\n",
    "- Thomas De Corte (Universiteit Gent: Gent, BE) ORCID: 0000-0001-5011-6640\n",
    "- Massimiliano Greco (Humanitas University, Rozzano, IT) ORCID: 0000-0003-1003-4637\n",
    "\n",
    "Coagulation free-text curation dictionaries\n",
    "- Andrea Lavinio (Cambridge University Hospitals NHS Foundation Trust: Cambridge, GB)\n",
    "- Ari Ercole (University of Cambridge: Cambridge, GB) ORCID: 0000-0001-8350-8093"
   ]
  },
  {
   "cell_type": "markdown",
   "metadata": {},
   "source": [
    "Usage: \n",
    "Add data file as \"./data/UNITE_COVID_19_global_export-1Dec2020.csv\"\n",
    "\n",
    "Dictionaries are in \"./dictionaries\"\n",
    "\n",
    "Then source the current pipline and execute the function get_data() which returns the curated dataset as a dataframe"
   ]
  },
  {
   "cell_type": "code",
   "execution_count": 1,
   "metadata": {
    "id": "_z_4o9e2dJXQ"
   },
   "outputs": [],
   "source": [
    "source(\"curation_pipeline_version_2_4.R\")\n",
    "\n",
    "data.df <- get_data()"
   ]
  },
  {
   "cell_type": "markdown",
   "metadata": {
    "id": "vy7TabwENLGG"
   },
   "source": [
    "**UNITE-COVID data curation notebook (R-Kernel)**\n"
   ]
  },
  {
   "cell_type": "code",
   "execution_count": 2,
   "metadata": {
    "id": "ti8K3FXadbVm"
   },
   "outputs": [
    {
     "data": {
      "text/html": [
       "<table>\n",
       "<thead><tr><th scope=col>NEW_COUNTRY_ID</th><th scope=col>NEW_SITE_ID</th><th scope=col>NEW_SUBJECT_ID</th><th scope=col>Iteration</th><th scope=col>INC_CRIT1_YN</th><th scope=col>INC_CRIT2_YN</th><th scope=col>INC_CRIT3_YN</th><th scope=col>INC_CRIT4_YN</th><th scope=col>INC_SEX_RAD</th><th scope=col>INC_AGE_INT</th><th scope=col>...</th><th scope=col>OUTCOME_LD</th><th scope=col>OUT_ICU_DURATION_INT</th><th scope=col>OUT_DEAD_DURING_ICU_YN</th><th scope=col>OUT_HOSP_DURATION_INT</th><th scope=col>OUT_DISCHARGE_RRT_YN</th><th scope=col>OUT_DEATH_DURING_ICU_YN....</th><th scope=col>INF_WITHOUT_ANTIMIC_INT</th><th scope=col>OUT_DEATH_DURING_ICU_YN</th><th scope=col>NEW_COAG_DVT_DAILY_DOSE</th><th scope=col>NEW_COAG_ANTIPLAT_DAILY_DOSE</th></tr></thead>\n",
       "<tbody>\n",
       "\t<tr><td>01              </td><td>03              </td><td>01              </td><td>1               </td><td>TRUE            </td><td>TRUE            </td><td>TRUE            </td><td>FALSE           </td><td>Male            </td><td>52              </td><td>...             </td><td>Hospitalized    </td><td>66              </td><td>NA              </td><td> 1              </td><td>NA              </td><td>,,,,            </td><td>30              </td><td>NA              </td><td>2000            </td><td>1000            </td></tr>\n",
       "\t<tr><td>01              </td><td>03              </td><td>02              </td><td>1               </td><td>TRUE            </td><td>TRUE            </td><td>TRUE            </td><td>FALSE           </td><td>Male            </td><td>31              </td><td>...             </td><td>Death           </td><td>92              </td><td>TRUE            </td><td> 1              </td><td>NA              </td><td>1,,,,           </td><td> 2              </td><td>TRUE            </td><td>2000            </td><td>1000            </td></tr>\n",
       "\t<tr><td>01              </td><td>03              </td><td>03              </td><td>1               </td><td>TRUE            </td><td>TRUE            </td><td>TRUE            </td><td>FALSE           </td><td>Male            </td><td>51              </td><td>...             </td><td>Death           </td><td>92              </td><td>TRUE            </td><td> 1              </td><td>NA              </td><td>1,,,,           </td><td>10              </td><td>TRUE            </td><td>2000            </td><td>1000            </td></tr>\n",
       "\t<tr><td>01              </td><td>03              </td><td>04              </td><td>1               </td><td>TRUE            </td><td>TRUE            </td><td>TRUE            </td><td>FALSE           </td><td>Male            </td><td>50              </td><td>...             </td><td>Death           </td><td>13              </td><td>TRUE            </td><td> 1              </td><td>NA              </td><td>1,,,,           </td><td> 2              </td><td>TRUE            </td><td>2000            </td><td>1000            </td></tr>\n",
       "\t<tr><td>01              </td><td>03              </td><td>05              </td><td>1               </td><td>TRUE            </td><td>TRUE            </td><td>TRUE            </td><td>FALSE           </td><td>Female          </td><td>48              </td><td>...             </td><td>Discharged alive</td><td>43              </td><td>NA              </td><td>61              </td><td>NA              </td><td>,,,,            </td><td>41              </td><td>NA              </td><td>2000            </td><td>1000            </td></tr>\n",
       "\t<tr><td>01              </td><td>06              </td><td>01              </td><td>1               </td><td>TRUE            </td><td>TRUE            </td><td>TRUE            </td><td>FALSE           </td><td>Female          </td><td>69              </td><td>...             </td><td>NA              </td><td> 1              </td><td>NA              </td><td> 1              </td><td>NA              </td><td>,,,,            </td><td>NA              </td><td>NA              </td><td>7600            </td><td>  NA            </td></tr>\n",
       "</tbody>\n",
       "</table>\n"
      ],
      "text/latex": [
       "\\begin{tabular}{r|llllllllllllllllllllllllllllllllllllllllllllllllllllllllllllllllllllllllllllllllllllllllllllllllllllllllllllllllllllllllllllllllllllllllllllllllllllllllllllllllllllllllllllllllllllllllllllllllllll}\n",
       " NEW\\_COUNTRY\\_ID & NEW\\_SITE\\_ID & NEW\\_SUBJECT\\_ID & Iteration & INC\\_CRIT1\\_YN & INC\\_CRIT2\\_YN & INC\\_CRIT3\\_YN & INC\\_CRIT4\\_YN & INC\\_SEX\\_RAD & INC\\_AGE\\_INT & ... & OUTCOME\\_LD & OUT\\_ICU\\_DURATION\\_INT & OUT\\_DEAD\\_DURING\\_ICU\\_YN & OUT\\_HOSP\\_DURATION\\_INT & OUT\\_DISCHARGE\\_RRT\\_YN & OUT\\_DEATH\\_DURING\\_ICU\\_YN.... & INF\\_WITHOUT\\_ANTIMIC\\_INT & OUT\\_DEATH\\_DURING\\_ICU\\_YN & NEW\\_COAG\\_DVT\\_DAILY\\_DOSE & NEW\\_COAG\\_ANTIPLAT\\_DAILY\\_DOSE\\\\\n",
       "\\hline\n",
       "\t 01               & 03               & 01               & 1                & TRUE             & TRUE             & TRUE             & FALSE            & Male             & 52               & ...              & Hospitalized     & 66               & NA               &  1               & NA               & ,,,,             & 30               & NA               & 2000             & 1000            \\\\\n",
       "\t 01               & 03               & 02               & 1                & TRUE             & TRUE             & TRUE             & FALSE            & Male             & 31               & ...              & Death            & 92               & TRUE             &  1               & NA               & 1,,,,            &  2               & TRUE             & 2000             & 1000            \\\\\n",
       "\t 01               & 03               & 03               & 1                & TRUE             & TRUE             & TRUE             & FALSE            & Male             & 51               & ...              & Death            & 92               & TRUE             &  1               & NA               & 1,,,,            & 10               & TRUE             & 2000             & 1000            \\\\\n",
       "\t 01               & 03               & 04               & 1                & TRUE             & TRUE             & TRUE             & FALSE            & Male             & 50               & ...              & Death            & 13               & TRUE             &  1               & NA               & 1,,,,            &  2               & TRUE             & 2000             & 1000            \\\\\n",
       "\t 01               & 03               & 05               & 1                & TRUE             & TRUE             & TRUE             & FALSE            & Female           & 48               & ...              & Discharged alive & 43               & NA               & 61               & NA               & ,,,,             & 41               & NA               & 2000             & 1000            \\\\\n",
       "\t 01               & 06               & 01               & 1                & TRUE             & TRUE             & TRUE             & FALSE            & Female           & 69               & ...              & NA               &  1               & NA               &  1               & NA               & ,,,,             & NA               & NA               & 7600             &   NA            \\\\\n",
       "\\end{tabular}\n"
      ],
      "text/markdown": [
       "\n",
       "| NEW_COUNTRY_ID | NEW_SITE_ID | NEW_SUBJECT_ID | Iteration | INC_CRIT1_YN | INC_CRIT2_YN | INC_CRIT3_YN | INC_CRIT4_YN | INC_SEX_RAD | INC_AGE_INT | ... | OUTCOME_LD | OUT_ICU_DURATION_INT | OUT_DEAD_DURING_ICU_YN | OUT_HOSP_DURATION_INT | OUT_DISCHARGE_RRT_YN | OUT_DEATH_DURING_ICU_YN.... | INF_WITHOUT_ANTIMIC_INT | OUT_DEATH_DURING_ICU_YN | NEW_COAG_DVT_DAILY_DOSE | NEW_COAG_ANTIPLAT_DAILY_DOSE |\n",
       "|---|---|---|---|---|---|---|---|---|---|---|---|---|---|---|---|---|---|---|---|---|\n",
       "| 01               | 03               | 01               | 1                | TRUE             | TRUE             | TRUE             | FALSE            | Male             | 52               | ...              | Hospitalized     | 66               | NA               |  1               | NA               | ,,,,             | 30               | NA               | 2000             | 1000             |\n",
       "| 01               | 03               | 02               | 1                | TRUE             | TRUE             | TRUE             | FALSE            | Male             | 31               | ...              | Death            | 92               | TRUE             |  1               | NA               | 1,,,,            |  2               | TRUE             | 2000             | 1000             |\n",
       "| 01               | 03               | 03               | 1                | TRUE             | TRUE             | TRUE             | FALSE            | Male             | 51               | ...              | Death            | 92               | TRUE             |  1               | NA               | 1,,,,            | 10               | TRUE             | 2000             | 1000             |\n",
       "| 01               | 03               | 04               | 1                | TRUE             | TRUE             | TRUE             | FALSE            | Male             | 50               | ...              | Death            | 13               | TRUE             |  1               | NA               | 1,,,,            |  2               | TRUE             | 2000             | 1000             |\n",
       "| 01               | 03               | 05               | 1                | TRUE             | TRUE             | TRUE             | FALSE            | Female           | 48               | ...              | Discharged alive | 43               | NA               | 61               | NA               | ,,,,             | 41               | NA               | 2000             | 1000             |\n",
       "| 01               | 06               | 01               | 1                | TRUE             | TRUE             | TRUE             | FALSE            | Female           | 69               | ...              | NA               |  1               | NA               |  1               | NA               | ,,,,             | NA               | NA               | 7600             |   NA             |\n",
       "\n"
      ],
      "text/plain": [
       "  NEW_COUNTRY_ID NEW_SITE_ID NEW_SUBJECT_ID Iteration INC_CRIT1_YN INC_CRIT2_YN\n",
       "1 01             03          01             1         TRUE         TRUE        \n",
       "2 01             03          02             1         TRUE         TRUE        \n",
       "3 01             03          03             1         TRUE         TRUE        \n",
       "4 01             03          04             1         TRUE         TRUE        \n",
       "5 01             03          05             1         TRUE         TRUE        \n",
       "6 01             06          01             1         TRUE         TRUE        \n",
       "  INC_CRIT3_YN INC_CRIT4_YN INC_SEX_RAD INC_AGE_INT ... OUTCOME_LD      \n",
       "1 TRUE         FALSE        Male        52          ... Hospitalized    \n",
       "2 TRUE         FALSE        Male        31          ... Death           \n",
       "3 TRUE         FALSE        Male        51          ... Death           \n",
       "4 TRUE         FALSE        Male        50          ... Death           \n",
       "5 TRUE         FALSE        Female      48          ... Discharged alive\n",
       "6 TRUE         FALSE        Female      69          ... NA              \n",
       "  OUT_ICU_DURATION_INT OUT_DEAD_DURING_ICU_YN OUT_HOSP_DURATION_INT\n",
       "1 66                   NA                      1                   \n",
       "2 92                   TRUE                    1                   \n",
       "3 92                   TRUE                    1                   \n",
       "4 13                   TRUE                    1                   \n",
       "5 43                   NA                     61                   \n",
       "6  1                   NA                      1                   \n",
       "  OUT_DISCHARGE_RRT_YN OUT_DEATH_DURING_ICU_YN.... INF_WITHOUT_ANTIMIC_INT\n",
       "1 NA                   ,,,,                        30                     \n",
       "2 NA                   1,,,,                        2                     \n",
       "3 NA                   1,,,,                       10                     \n",
       "4 NA                   1,,,,                        2                     \n",
       "5 NA                   ,,,,                        41                     \n",
       "6 NA                   ,,,,                        NA                     \n",
       "  OUT_DEATH_DURING_ICU_YN NEW_COAG_DVT_DAILY_DOSE NEW_COAG_ANTIPLAT_DAILY_DOSE\n",
       "1 NA                      2000                    1000                        \n",
       "2 TRUE                    2000                    1000                        \n",
       "3 TRUE                    2000                    1000                        \n",
       "4 TRUE                    2000                    1000                        \n",
       "5 NA                      2000                    1000                        \n",
       "6 NA                      7600                      NA                        "
      ]
     },
     "metadata": {},
     "output_type": "display_data"
    }
   ],
   "source": [
    "head(data.df)"
   ]
  },
  {
   "cell_type": "code",
   "execution_count": null,
   "metadata": {},
   "outputs": [],
   "source": []
  }
 ],
 "metadata": {
  "colab": {
   "collapsed_sections": [],
   "name": "UNITE_COVID_R.ipynb",
   "provenance": []
  },
  "kernelspec": {
   "display_name": "R",
   "language": "R",
   "name": "ir"
  },
  "language_info": {
   "codemirror_mode": "r",
   "file_extension": ".r",
   "mimetype": "text/x-r-source",
   "name": "R",
   "pygments_lexer": "r",
   "version": "3.6.1"
  }
 },
 "nbformat": 4,
 "nbformat_minor": 1
}
