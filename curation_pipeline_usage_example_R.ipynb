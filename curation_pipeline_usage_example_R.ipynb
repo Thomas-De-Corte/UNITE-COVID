{
 "cells": [
  {
   "cell_type": "markdown",
   "metadata": {
    "id": "kA3mx_tPdJ0y"
   },
   "source": [
    "# UNITE-COVID data curation notebook (R-Kernel)\n",
    "\n",
    "## Version 2.0\n",
    "\n",
    "This describes the curation process. We use the finalised dataset \"UNITE_COVID_19_global_export-1Dec2020 CSV.csv\" \n",
    "as the source data / master dataframe. The working dataframe is 'working.df' and is updated by the curation script.\n",
    "\n",
    "\"UNITE_curation_dictionary.xlsx\" contains curation/explanatory notes.\n",
    "\n",
    "ESICM UNITE-COVID curation team\n",
    "- Ari Ercole (University of Cambridge: Cambridge, GB) ORCID: 0000-0001-8350-8093\n",
    "- Paul W Elbers (Amsterdam UMC: Amsterdam, NL) ORCID: 0000-0003-0447-6893\n",
    "- Harm-Jan de Grooth (VU University Medical Center: Amsterdam, NL) ORCID: 0000-0002-7499-076X\n",
    "- Thomas De Corte (Universiteit Gent: Gent, BE) ORCID: 0000-0001-5011-6640\n",
    "- Massimiliano Greco (Humanitas University, Rozzano, IT) ORCID: 0000-0003-1003-4637\n",
    "\n",
    "Coagulation free-text curation dictionaries\n",
    "- Andrea Lavinio (Cambridge University Hospitals NHS Foundation Trust: Cambridge, GB)\n",
    "- Ari Ercole (University of Cambridge: Cambridge, GB) ORCID: 0000-0001-8350-8093"
   ]
  },
  {
   "cell_type": "markdown",
   "metadata": {},
   "source": [
    "Usage: \n",
    "Add data file as \"./data/UNITE_COVID_19_global_export-1Dec2020.csv\"\n",
    "\n",
    "Dictionaries are in \"./dictionaries\"\n",
    "\n",
    "Then source the current pipline and execute the function get_data() which returns the curated dataset as a dataframe"
   ]
  },
  {
   "cell_type": "code",
   "execution_count": 1,
   "metadata": {
    "id": "_z_4o9e2dJXQ"
   },
   "outputs": [],
   "source": [
    "source(\"curation_pipeline_version_2_0.R\")\n",
    "\n",
    "data.df <- get_data()"
   ]
  },
  {
   "cell_type": "markdown",
   "metadata": {
    "id": "vy7TabwENLGG"
   },
   "source": [
    "**UNITE-COVID data curation notebook (R-Kernel)**\n"
   ]
  },
  {
   "cell_type": "code",
   "execution_count": 2,
   "metadata": {
    "id": "ti8K3FXadbVm"
   },
   "outputs": [
    {
     "data": {
      "text/html": [
       "<table>\n",
       "<thead><tr><th scope=col>Patient</th><th scope=col>Iteration</th><th scope=col>INC_CRIT1_YN</th><th scope=col>INC_CRIT2_YN</th><th scope=col>INC_CRIT3_YN</th><th scope=col>INC_CRIT4_YN</th><th scope=col>INC_SEX_RAD</th><th scope=col>INC_AGE_INT</th><th scope=col>INC_HEIGHT_INT</th><th scope=col>INC_WEIGHT_INT</th><th scope=col>...</th><th scope=col>REH_ECMO_HIGH_IMS_INT</th><th scope=col>OUTCOME_LD</th><th scope=col>OUT_ICU_DURATION_INT</th><th scope=col>OUT_DEAD_DURING_ICU_YN</th><th scope=col>OUT_HOSP_DURATION_INT</th><th scope=col>OUT_DISCHARGE_RRT_YN</th><th scope=col>OUT_DEATH_DURING_ICU_YN....</th><th scope=col>OUT_DEATH_DURING_ICU_YN</th><th scope=col>NEW_COAG_DVT_DAILY_DOSE</th><th scope=col>NEW_COAG_ANTIPLAT_DAILY_DOSE</th></tr></thead>\n",
       "<tbody>\n",
       "\t<tr><td>'01/03/01       </td><td>1               </td><td>TRUE            </td><td>TRUE            </td><td>TRUE            </td><td>FALSE           </td><td>Male            </td><td>52              </td><td>37              </td><td>113             </td><td>...             </td><td> 1              </td><td>Hospitalized    </td><td>66              </td><td>NA              </td><td> 1              </td><td>NA              </td><td>,,,,            </td><td>NA              </td><td>2000            </td><td>1000            </td></tr>\n",
       "\t<tr><td>'01/03/02       </td><td>1               </td><td>TRUE            </td><td>TRUE            </td><td>TRUE            </td><td>FALSE           </td><td>Male            </td><td>31              </td><td>37              </td><td>119             </td><td>...             </td><td> 1              </td><td>Death           </td><td>92              </td><td>TRUE            </td><td> 1              </td><td>NA              </td><td>1,,,,           </td><td>TRUE            </td><td>2000            </td><td>1000            </td></tr>\n",
       "\t<tr><td>'01/03/03       </td><td>1               </td><td>TRUE            </td><td>TRUE            </td><td>TRUE            </td><td>FALSE           </td><td>Male            </td><td>51              </td><td>42              </td><td>128             </td><td>...             </td><td> 1              </td><td>Death           </td><td>92              </td><td>TRUE            </td><td> 1              </td><td>NA              </td><td>1,,,,           </td><td>TRUE            </td><td>2000            </td><td>1000            </td></tr>\n",
       "\t<tr><td>'01/03/04       </td><td>1               </td><td>TRUE            </td><td>TRUE            </td><td>TRUE            </td><td>FALSE           </td><td>Male            </td><td>50              </td><td>37              </td><td>128             </td><td>...             </td><td> 1              </td><td>Death           </td><td>13              </td><td>TRUE            </td><td> 1              </td><td>NA              </td><td>1,,,,           </td><td>TRUE            </td><td>2000            </td><td>1000            </td></tr>\n",
       "\t<tr><td>'01/03/05       </td><td>1               </td><td>TRUE            </td><td>TRUE            </td><td>TRUE            </td><td>FALSE           </td><td>Female          </td><td>48              </td><td>32              </td><td>108             </td><td>...             </td><td> 1              </td><td>Discharged alive</td><td>43              </td><td>NA              </td><td>61              </td><td>NA              </td><td>,,,,            </td><td>NA              </td><td>2000            </td><td>1000            </td></tr>\n",
       "\t<tr><td>'01/06/01       </td><td>1               </td><td>TRUE            </td><td>TRUE            </td><td>TRUE            </td><td>FALSE           </td><td>Female          </td><td>69              </td><td>32              </td><td>109             </td><td>...             </td><td>NA              </td><td>NA              </td><td> 1              </td><td>NA              </td><td> 1              </td><td>NA              </td><td>,,,,            </td><td>NA              </td><td>7600            </td><td>  NA            </td></tr>\n",
       "</tbody>\n",
       "</table>\n"
      ],
      "text/latex": [
       "\\begin{tabular}{r|llllllllllllllllllllllllllllllllllllllllllllllllllllllllllllllllllllllllllllllllllllllllllllllllllllllllllllllllllllllllllllllllllllllllllllllllllllllllllllllllllllllllllllllllllllllllllllllllll}\n",
       " Patient & Iteration & INC\\_CRIT1\\_YN & INC\\_CRIT2\\_YN & INC\\_CRIT3\\_YN & INC\\_CRIT4\\_YN & INC\\_SEX\\_RAD & INC\\_AGE\\_INT & INC\\_HEIGHT\\_INT & INC\\_WEIGHT\\_INT & ... & REH\\_ECMO\\_HIGH\\_IMS\\_INT & OUTCOME\\_LD & OUT\\_ICU\\_DURATION\\_INT & OUT\\_DEAD\\_DURING\\_ICU\\_YN & OUT\\_HOSP\\_DURATION\\_INT & OUT\\_DISCHARGE\\_RRT\\_YN & OUT\\_DEATH\\_DURING\\_ICU\\_YN.... & OUT\\_DEATH\\_DURING\\_ICU\\_YN & NEW\\_COAG\\_DVT\\_DAILY\\_DOSE & NEW\\_COAG\\_ANTIPLAT\\_DAILY\\_DOSE\\\\\n",
       "\\hline\n",
       "\t '01/03/01        & 1                & TRUE             & TRUE             & TRUE             & FALSE            & Male             & 52               & 37               & 113              & ...              &  1               & Hospitalized     & 66               & NA               &  1               & NA               & ,,,,             & NA               & 2000             & 1000            \\\\\n",
       "\t '01/03/02        & 1                & TRUE             & TRUE             & TRUE             & FALSE            & Male             & 31               & 37               & 119              & ...              &  1               & Death            & 92               & TRUE             &  1               & NA               & 1,,,,            & TRUE             & 2000             & 1000            \\\\\n",
       "\t '01/03/03        & 1                & TRUE             & TRUE             & TRUE             & FALSE            & Male             & 51               & 42               & 128              & ...              &  1               & Death            & 92               & TRUE             &  1               & NA               & 1,,,,            & TRUE             & 2000             & 1000            \\\\\n",
       "\t '01/03/04        & 1                & TRUE             & TRUE             & TRUE             & FALSE            & Male             & 50               & 37               & 128              & ...              &  1               & Death            & 13               & TRUE             &  1               & NA               & 1,,,,            & TRUE             & 2000             & 1000            \\\\\n",
       "\t '01/03/05        & 1                & TRUE             & TRUE             & TRUE             & FALSE            & Female           & 48               & 32               & 108              & ...              &  1               & Discharged alive & 43               & NA               & 61               & NA               & ,,,,             & NA               & 2000             & 1000            \\\\\n",
       "\t '01/06/01        & 1                & TRUE             & TRUE             & TRUE             & FALSE            & Female           & 69               & 32               & 109              & ...              & NA               & NA               &  1               & NA               &  1               & NA               & ,,,,             & NA               & 7600             &   NA            \\\\\n",
       "\\end{tabular}\n"
      ],
      "text/markdown": [
       "\n",
       "| Patient | Iteration | INC_CRIT1_YN | INC_CRIT2_YN | INC_CRIT3_YN | INC_CRIT4_YN | INC_SEX_RAD | INC_AGE_INT | INC_HEIGHT_INT | INC_WEIGHT_INT | ... | REH_ECMO_HIGH_IMS_INT | OUTCOME_LD | OUT_ICU_DURATION_INT | OUT_DEAD_DURING_ICU_YN | OUT_HOSP_DURATION_INT | OUT_DISCHARGE_RRT_YN | OUT_DEATH_DURING_ICU_YN.... | OUT_DEATH_DURING_ICU_YN | NEW_COAG_DVT_DAILY_DOSE | NEW_COAG_ANTIPLAT_DAILY_DOSE |\n",
       "|---|---|---|---|---|---|---|---|---|---|---|---|---|---|---|---|---|---|---|---|---|\n",
       "| '01/03/01        | 1                | TRUE             | TRUE             | TRUE             | FALSE            | Male             | 52               | 37               | 113              | ...              |  1               | Hospitalized     | 66               | NA               |  1               | NA               | ,,,,             | NA               | 2000             | 1000             |\n",
       "| '01/03/02        | 1                | TRUE             | TRUE             | TRUE             | FALSE            | Male             | 31               | 37               | 119              | ...              |  1               | Death            | 92               | TRUE             |  1               | NA               | 1,,,,            | TRUE             | 2000             | 1000             |\n",
       "| '01/03/03        | 1                | TRUE             | TRUE             | TRUE             | FALSE            | Male             | 51               | 42               | 128              | ...              |  1               | Death            | 92               | TRUE             |  1               | NA               | 1,,,,            | TRUE             | 2000             | 1000             |\n",
       "| '01/03/04        | 1                | TRUE             | TRUE             | TRUE             | FALSE            | Male             | 50               | 37               | 128              | ...              |  1               | Death            | 13               | TRUE             |  1               | NA               | 1,,,,            | TRUE             | 2000             | 1000             |\n",
       "| '01/03/05        | 1                | TRUE             | TRUE             | TRUE             | FALSE            | Female           | 48               | 32               | 108              | ...              |  1               | Discharged alive | 43               | NA               | 61               | NA               | ,,,,             | NA               | 2000             | 1000             |\n",
       "| '01/06/01        | 1                | TRUE             | TRUE             | TRUE             | FALSE            | Female           | 69               | 32               | 109              | ...              | NA               | NA               |  1               | NA               |  1               | NA               | ,,,,             | NA               | 7600             |   NA             |\n",
       "\n"
      ],
      "text/plain": [
       "  Patient   Iteration INC_CRIT1_YN INC_CRIT2_YN INC_CRIT3_YN INC_CRIT4_YN\n",
       "1 '01/03/01 1         TRUE         TRUE         TRUE         FALSE       \n",
       "2 '01/03/02 1         TRUE         TRUE         TRUE         FALSE       \n",
       "3 '01/03/03 1         TRUE         TRUE         TRUE         FALSE       \n",
       "4 '01/03/04 1         TRUE         TRUE         TRUE         FALSE       \n",
       "5 '01/03/05 1         TRUE         TRUE         TRUE         FALSE       \n",
       "6 '01/06/01 1         TRUE         TRUE         TRUE         FALSE       \n",
       "  INC_SEX_RAD INC_AGE_INT INC_HEIGHT_INT INC_WEIGHT_INT ...\n",
       "1 Male        52          37             113            ...\n",
       "2 Male        31          37             119            ...\n",
       "3 Male        51          42             128            ...\n",
       "4 Male        50          37             128            ...\n",
       "5 Female      48          32             108            ...\n",
       "6 Female      69          32             109            ...\n",
       "  REH_ECMO_HIGH_IMS_INT OUTCOME_LD       OUT_ICU_DURATION_INT\n",
       "1  1                    Hospitalized     66                  \n",
       "2  1                    Death            92                  \n",
       "3  1                    Death            92                  \n",
       "4  1                    Death            13                  \n",
       "5  1                    Discharged alive 43                  \n",
       "6 NA                    NA                1                  \n",
       "  OUT_DEAD_DURING_ICU_YN OUT_HOSP_DURATION_INT OUT_DISCHARGE_RRT_YN\n",
       "1 NA                      1                    NA                  \n",
       "2 TRUE                    1                    NA                  \n",
       "3 TRUE                    1                    NA                  \n",
       "4 TRUE                    1                    NA                  \n",
       "5 NA                     61                    NA                  \n",
       "6 NA                      1                    NA                  \n",
       "  OUT_DEATH_DURING_ICU_YN.... OUT_DEATH_DURING_ICU_YN NEW_COAG_DVT_DAILY_DOSE\n",
       "1 ,,,,                        NA                      2000                   \n",
       "2 1,,,,                       TRUE                    2000                   \n",
       "3 1,,,,                       TRUE                    2000                   \n",
       "4 1,,,,                       TRUE                    2000                   \n",
       "5 ,,,,                        NA                      2000                   \n",
       "6 ,,,,                        NA                      7600                   \n",
       "  NEW_COAG_ANTIPLAT_DAILY_DOSE\n",
       "1 1000                        \n",
       "2 1000                        \n",
       "3 1000                        \n",
       "4 1000                        \n",
       "5 1000                        \n",
       "6   NA                        "
      ]
     },
     "metadata": {},
     "output_type": "display_data"
    }
   ],
   "source": [
    "head(data.df)"
   ]
  },
  {
   "cell_type": "code",
   "execution_count": null,
   "metadata": {},
   "outputs": [],
   "source": []
  }
 ],
 "metadata": {
  "colab": {
   "collapsed_sections": [],
   "name": "UNITE_COVID_R.ipynb",
   "provenance": []
  },
  "kernelspec": {
   "display_name": "R",
   "language": "R",
   "name": "ir"
  },
  "language_info": {
   "codemirror_mode": "r",
   "file_extension": ".r",
   "mimetype": "text/x-r-source",
   "name": "R",
   "pygments_lexer": "r",
   "version": "3.6.1"
  }
 },
 "nbformat": 4,
 "nbformat_minor": 1
}
